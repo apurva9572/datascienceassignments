{
 "cells": [
  {
   "cell_type": "markdown",
   "id": "602c6b4d-ce96-4e73-9e20-765d2b858d8f",
   "metadata": {},
   "source": [
    "Q1. How do you comment code in Python? What are the different types of comments?"
   ]
  },
  {
   "cell_type": "markdown",
   "id": "b73929ee-14cd-490d-a96e-ff788280a142",
   "metadata": {},
   "source": [
    "we can add comments using # or triple quotes in python . there are two types of comments in python i.e \n",
    "1) Single line comment \n",
    "ex - \n",
    "# This is a single-line comment\n",
    "\n",
    "2) Multi line comment\n",
    "ex-\n",
    "\n",
    "'''\n",
    "This is a multi-line comment.\n",
    "It can span multiple lines and provide documentation.\n",
    "'''"
   ]
  },
  {
   "cell_type": "markdown",
   "id": "b1a16a08-c503-438f-81d7-deda77f40ad6",
   "metadata": {},
   "source": [
    "Q2. What are variables in Python? How do you declare and assign values to variables?"
   ]
  },
  {
   "cell_type": "markdown",
   "id": "a15e65e5-96be-4665-9d78-2798d66b900c",
   "metadata": {},
   "source": [
    "In Python, variables are used to store data values. They act as named containers that hold information, which can be of various types like numbers, strings, lists, and more. Variables allow you to store data and manipulate it throughout your program.\n",
    "\n",
    "To declare and assign values to variables in Python, you simply use the variable name followed by the assignment operator (=) and the value you want to assign.\n",
    "\n",
    "ex-\n",
    "age = 25"
   ]
  },
  {
   "cell_type": "markdown",
   "id": "84c562b1-550d-45ad-bfe3-d4936d528fcf",
   "metadata": {},
   "source": [
    "Q3. How do you convert one data type to another in Python?"
   ]
  },
  {
   "cell_type": "markdown",
   "id": "1770ea57-4341-4d8e-b4b8-c8aef90b8ad1",
   "metadata": {},
   "source": [
    "In Python, we can convert one data type to another using type conversion functions or methods.\n",
    "\n",
    "Here are some common type conversion functions and techniques:\n",
    "\n",
    "\n",
    "1) Explicit Type Conversion (Casting): Use functions like int(), float(), str(), etc., to convert between data types explicitly.\n",
    "\n",
    "ex- \n",
    "num = 42\n",
    "num_str = str(num)\n",
    "\n",
    "2) Using Constructors: Some data types have constructors, like int(), float(), etc., that can also perform type conversion.\n",
    "\n",
    "ex-\n",
    "num_str = \"123\"\n",
    "num = int(num_str)\n",
    "\n",
    "3) Implicit Type Conversion (Coercion): Python performs automatic type conversion when mixing different types in expressions.\n",
    "\n",
    "ex-\n",
    "int_num = 5\n",
    "float_num = 3.14\n",
    "result = int_num + float_num\n",
    "\n",
    "4) Using Format Conversion: Strings can be formatted into different types using format() or formatted string literals (f-strings).\n",
    "\n",
    "ex-\n",
    "num_str = \"42\"\n",
    "num = int(num_str)\n",
    "print(f\"The value is {num}\")\n"
   ]
  },
  {
   "cell_type": "markdown",
   "id": "0bd06996-9e46-4ba6-bc34-151223f97e0f",
   "metadata": {},
   "source": [
    "Q4. How do you write and execute a Python script from the command line?"
   ]
  },
  {
   "cell_type": "markdown",
   "id": "d10eb825-a59e-4ab6-bf02-f75c39780de5",
   "metadata": {},
   "source": [
    "1) Create the Script:\n",
    "\n",
    "notepad myscript.py\n",
    "\n",
    "2) Write the Script:\n",
    "\n",
    "print(\"Hello, Command Prompt!\")\n",
    "\n",
    "3) Run the Script:\n",
    "\n",
    "python myscript.py\n"
   ]
  },
  {
   "cell_type": "markdown",
   "id": "b4871ab1-24b5-4bca-a4f5-ef7083124219",
   "metadata": {},
   "source": [
    "Q5. Given a list my_list = [1, 2, 3, 4, 5], write the code to slice the list and obtain the sub-list [2, 3]."
   ]
  },
  {
   "cell_type": "code",
   "execution_count": 1,
   "id": "8c5b4777-ded5-4bd0-9320-45e40de80665",
   "metadata": {},
   "outputs": [
    {
     "name": "stdout",
     "output_type": "stream",
     "text": [
      "[2, 3]\n"
     ]
    }
   ],
   "source": [
    "my_list = [1, 2, 3, 4, 5]\n",
    "\n",
    "# Slicing to obtain the sub-list [2, 3]\n",
    "sub_list = my_list[1:3]\n",
    "\n",
    "print(sub_list)  # Output: [2, 3]\n"
   ]
  },
  {
   "cell_type": "markdown",
   "id": "4f856cca-385b-457b-a31b-41757539f88b",
   "metadata": {},
   "source": [
    "Q6. What is a complex number in mathematics, and how is it represented in Python?"
   ]
  },
  {
   "cell_type": "markdown",
   "id": "98661495-33d0-4f07-b280-d4fc96d469b9",
   "metadata": {},
   "source": [
    "In mathematics, a complex number is a number that comprises both a real part and an imaginary part. It is typically represented as \"a + bi\", where \"a\" is the real part, \"b\" is the imaginary part, and \"i\" is the imaginary unit (√-1). \n",
    "\n",
    "In Python, complex numbers are also represented similarly. The imaginary unit is denoted by a lowercase \"j\" or \"J\".\n",
    "ex-\n",
    "z1 = 3 + 4j "
   ]
  },
  {
   "cell_type": "markdown",
   "id": "fb04a9c6-6b78-435f-a2e0-4a03845f5f7d",
   "metadata": {},
   "source": [
    "Q7. What is the correct way to declare a variable named age and assign the value 25 to it?"
   ]
  },
  {
   "cell_type": "code",
   "execution_count": 2,
   "id": "7eb1205d-6704-43b2-962b-8abcdb3970e3",
   "metadata": {},
   "outputs": [],
   "source": [
    "age = 25\n"
   ]
  },
  {
   "cell_type": "markdown",
   "id": "cbbbe98c-6f96-482e-a3fb-53d6050c8fd5",
   "metadata": {},
   "source": [
    "Q8. Declare a variable named price and assign the value 9.99 to it. What data type does this variable\n",
    "belong to?"
   ]
  },
  {
   "cell_type": "code",
   "execution_count": 3,
   "id": "8297e0cb-708f-4db9-8a73-5fc6f7269425",
   "metadata": {},
   "outputs": [
    {
     "name": "stdout",
     "output_type": "stream",
     "text": [
      "<class 'float'>\n"
     ]
    }
   ],
   "source": [
    "price = 9.99\n",
    "print(type(price))"
   ]
  },
  {
   "cell_type": "markdown",
   "id": "d720778a-3669-483f-8d9d-b1c0c446343f",
   "metadata": {},
   "source": [
    "Q9. Create a variable named name and assign your full name to it as a string. How would you print the\n",
    "value of this variable?"
   ]
  },
  {
   "cell_type": "code",
   "execution_count": 4,
   "id": "68ba6bf1-a6ab-4f52-b6df-2415bbd0c018",
   "metadata": {},
   "outputs": [
    {
     "name": "stdout",
     "output_type": "stream",
     "text": [
      "Apurva\n"
     ]
    }
   ],
   "source": [
    "name = \"Apurva\"\n",
    "print(name)"
   ]
  },
  {
   "cell_type": "markdown",
   "id": "90d171b1-8f14-4945-a43f-a942b7ce1db2",
   "metadata": {},
   "source": [
    "Q10. Given the string \"Hello, World!\", extract the substring \"World\"."
   ]
  },
  {
   "cell_type": "code",
   "execution_count": 11,
   "id": "b79b0ef1-3b31-4560-852a-a069ba667e91",
   "metadata": {},
   "outputs": [
    {
     "name": "stdout",
     "output_type": "stream",
     "text": [
      "World\n"
     ]
    }
   ],
   "source": [
    "str = \"Hello, World!\"\n",
    "print(str[-6:-1])"
   ]
  },
  {
   "cell_type": "markdown",
   "id": "2a1ae8ef-429c-4489-aac2-8a491fd55172",
   "metadata": {},
   "source": [
    "Q11. Create a variable named \"is_student\" and assign it a boolean value indicating whether you are\n",
    "currently a student or not."
   ]
  },
  {
   "cell_type": "code",
   "execution_count": 12,
   "id": "7da47d51-8241-4110-b9d8-7fe3384832a7",
   "metadata": {},
   "outputs": [],
   "source": [
    "is_student = True"
   ]
  },
  {
   "cell_type": "code",
   "execution_count": null,
   "id": "b0d9cf9f-7ecd-4dd9-b021-7abfce3db117",
   "metadata": {},
   "outputs": [],
   "source": []
  }
 ],
 "metadata": {
  "kernelspec": {
   "display_name": "Python 3 (ipykernel)",
   "language": "python",
   "name": "python3"
  },
  "language_info": {
   "codemirror_mode": {
    "name": "ipython",
    "version": 3
   },
   "file_extension": ".py",
   "mimetype": "text/x-python",
   "name": "python",
   "nbconvert_exporter": "python",
   "pygments_lexer": "ipython3",
   "version": "3.10.8"
  }
 },
 "nbformat": 4,
 "nbformat_minor": 5
}
