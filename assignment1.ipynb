{
 "cells": [
  {
   "cell_type": "markdown",
   "id": "9f2b22a8-9017-4773-b661-5939ddbb41d4",
   "metadata": {},
   "source": [
    "Q - 1 ) Solution ----"
   ]
  },
  {
   "cell_type": "code",
   "execution_count": 1,
   "id": "6198aabf-2073-4d2d-a564-e162a16330ef",
   "metadata": {},
   "outputs": [],
   "source": [
    "a=\"apurva\"\n",
    "b=[1,2,23,2.3,\"def\"]\n",
    "c=2.34\n",
    "e=(23,24,\"hii\")"
   ]
  },
  {
   "cell_type": "markdown",
   "id": "18b9f259-bb26-429a-bae3-566014a459f7",
   "metadata": {},
   "source": [
    "Q -2 )  i) str\n",
    "        ii) str\n",
    "        iii) List\n",
    "        iv) float"
   ]
  },
  {
   "cell_type": "markdown",
   "id": "e7c08580-60aa-440f-890f-1ad4a77f18f0",
   "metadata": {},
   "source": [
    "Q -3 ) Solution \n",
    "\n",
    "\n",
    "i) / - used to divide two numbers"
   ]
  },
  {
   "cell_type": "code",
   "execution_count": 9,
   "id": "fc2cf5ff-b58f-42e7-ba4e-c56875cbcb9f",
   "metadata": {},
   "outputs": [
    {
     "data": {
      "text/plain": [
       "0.6666666666666666"
      ]
     },
     "execution_count": 9,
     "metadata": {},
     "output_type": "execute_result"
    }
   ],
   "source": [
    "2/3"
   ]
  },
  {
   "cell_type": "markdown",
   "id": "8e8a878b-520a-461d-ba4b-15d6f2efe6fc",
   "metadata": {},
   "source": [
    "ii) % -  returns the remainder when the first operand is divided by the second"
   ]
  },
  {
   "cell_type": "code",
   "execution_count": 10,
   "id": "97c1565c-b1fd-45e4-8e90-009e4fbb8f71",
   "metadata": {},
   "outputs": [
    {
     "data": {
      "text/plain": [
       "0"
      ]
     },
     "execution_count": 10,
     "metadata": {},
     "output_type": "execute_result"
    }
   ],
   "source": [
    "6%3"
   ]
  },
  {
   "cell_type": "markdown",
   "id": "ba9667f5-9063-4d56-914d-8220f51f0ce1",
   "metadata": {},
   "source": [
    "// - used for floor division"
   ]
  },
  {
   "cell_type": "code",
   "execution_count": 11,
   "id": "56341220-206d-4164-bdc2-2747b41ff138",
   "metadata": {},
   "outputs": [
    {
     "data": {
      "text/plain": [
       "2"
      ]
     },
     "execution_count": 11,
     "metadata": {},
     "output_type": "execute_result"
    }
   ],
   "source": [
    "6//3"
   ]
  },
  {
   "cell_type": "markdown",
   "id": "0306cbbd-a141-44fa-9fb7-0d7ba28e0a04",
   "metadata": {},
   "source": [
    "** - used for giving power to a number"
   ]
  },
  {
   "cell_type": "code",
   "execution_count": 13,
   "id": "3b2e4984-1288-44b3-b18a-24af72a33798",
   "metadata": {},
   "outputs": [
    {
     "data": {
      "text/plain": [
       "4"
      ]
     },
     "execution_count": 13,
     "metadata": {},
     "output_type": "execute_result"
    }
   ],
   "source": [
    "2**2"
   ]
  },
  {
   "cell_type": "code",
   "execution_count": null,
   "id": "cfa75d59-bd72-47ed-9cdf-9f72cb7e265a",
   "metadata": {},
   "outputs": [],
   "source": []
  },
  {
   "cell_type": "markdown",
   "id": "c6963991-34ea-41c2-87c6-4e933c60f36c",
   "metadata": {},
   "source": [
    "Q - 4 ) Solution"
   ]
  },
  {
   "cell_type": "code",
   "execution_count": 15,
   "id": "afa9ba49-ac34-462b-abd2-03dfbb048724",
   "metadata": {},
   "outputs": [
    {
     "name": "stdout",
     "output_type": "stream",
     "text": [
      "1\n",
      "2\n",
      "3\n",
      "4\n",
      "5\n",
      "6\n",
      "7\n",
      "8\n",
      "9\n",
      "10\n",
      "11\n"
     ]
    }
   ],
   "source": [
    "my_list = [1,2,3,4,5,6,7,8,9,10,11]\n",
    "for i in my_list:\n",
    "    print(i)"
   ]
  },
  {
   "cell_type": "code",
   "execution_count": null,
   "id": "0728ca07-d3de-4310-ad6d-3ae45adad49d",
   "metadata": {},
   "outputs": [],
   "source": []
  },
  {
   "cell_type": "markdown",
   "id": "74bd8c26-dc78-4522-a370-e9dadab7fefe",
   "metadata": {},
   "source": [
    "Q - 5 ) Solution"
   ]
  },
  {
   "cell_type": "code",
   "execution_count": 16,
   "id": "daba0643-f482-435b-9ca1-3a416400c457",
   "metadata": {},
   "outputs": [
    {
     "name": "stdout",
     "output_type": "stream",
     "text": [
      "Number of divisions: 2\n"
     ]
    }
   ],
   "source": [
    "A = 100\n",
    "B = 5\n",
    "count = 0\n",
    "\n",
    "while A % B == 0:\n",
    "    count += 1\n",
    "    A //= B\n",
    "\n",
    "print(\"Number of divisions:\", count)"
   ]
  },
  {
   "cell_type": "code",
   "execution_count": null,
   "id": "b3f33654-6a4c-498f-ba47-20d788ee263f",
   "metadata": {},
   "outputs": [],
   "source": []
  },
  {
   "cell_type": "markdown",
   "id": "7ae5a5dc-1141-4203-be94-cfc63e017d54",
   "metadata": {},
   "source": [
    "Q - 6 ) Solution"
   ]
  },
  {
   "cell_type": "code",
   "execution_count": 17,
   "id": "4575e9cb-e389-4d6f-8d0b-b023e903b49e",
   "metadata": {},
   "outputs": [
    {
     "name": "stdout",
     "output_type": "stream",
     "text": [
      "1 is not divisible by 3\n",
      "2 is not divisible by 3\n",
      "3 is divisible by 3\n",
      "4 is not divisible by 3\n",
      "5 is not divisible by 3\n",
      "6 is divisible by 3\n",
      "7 is not divisible by 3\n",
      "8 is not divisible by 3\n",
      "9 is divisible by 3\n",
      "10 is not divisible by 3\n",
      "11 is not divisible by 3\n",
      "12 is divisible by 3\n",
      "13 is not divisible by 3\n",
      "14 is not divisible by 3\n",
      "15 is divisible by 3\n",
      "16 is not divisible by 3\n",
      "17 is not divisible by 3\n",
      "18 is divisible by 3\n",
      "19 is not divisible by 3\n",
      "20 is not divisible by 3\n",
      "21 is divisible by 3\n",
      "22 is not divisible by 3\n",
      "23 is not divisible by 3\n",
      "24 is divisible by 3\n",
      "25 is not divisible by 3\n"
     ]
    }
   ],
   "source": [
    "data_list = list(range(1, 26))\n",
    "\n",
    "for element in data_list:\n",
    "    if element % 3 == 0:\n",
    "        print(element, \"is divisible by 3\")\n",
    "    else:\n",
    "        print(element, \"is not divisible by 3\")\n"
   ]
  },
  {
   "cell_type": "code",
   "execution_count": null,
   "id": "a1874baf-5025-4bfa-8966-7b418f2ef720",
   "metadata": {},
   "outputs": [],
   "source": []
  },
  {
   "cell_type": "markdown",
   "id": "3ec6e2ad-1a83-4a08-b413-9ccbf0d7d4f2",
   "metadata": {},
   "source": [
    "Q - 7 ) Solution"
   ]
  },
  {
   "cell_type": "markdown",
   "id": "9b161806-e8c9-473c-9333-1f23a2134558",
   "metadata": {},
   "source": [
    "Mutable data types in Python:\n",
    "\n",
    "Examples: lists (list), dictionaries (dict), sets (set).\n",
    "Mutable objects can be modified by adding, removing, or changing their elements without creating a new object.\n",
    "Modifying a mutable object affects its value in place.\n",
    "\n",
    "\n",
    "Immutable data types in Python:\n",
    "\n",
    "Examples: integers (int), floats (float), booleans (bool), strings (str), tuples (tuple).\n",
    "Immutable objects cannot be modified after they are created.\n",
    "Operations that seem to modify immutable objects actually create new objects with the modified values."
   ]
  }
 ],
 "metadata": {
  "kernelspec": {
   "display_name": "Python 3 (ipykernel)",
   "language": "python",
   "name": "python3"
  },
  "language_info": {
   "codemirror_mode": {
    "name": "ipython",
    "version": 3
   },
   "file_extension": ".py",
   "mimetype": "text/x-python",
   "name": "python",
   "nbconvert_exporter": "python",
   "pygments_lexer": "ipython3",
   "version": "3.10.8"
  }
 },
 "nbformat": 4,
 "nbformat_minor": 5
}
